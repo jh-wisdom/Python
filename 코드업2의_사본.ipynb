{
  "nbformat": 4,
  "nbformat_minor": 0,
  "metadata": {
    "colab": {
      "name": "코드업2의 사본",
      "provenance": [],
      "authorship_tag": "ABX9TyOmXr9CRYJB2WMwbPsLB9g2",
      "include_colab_link": true
    },
    "kernelspec": {
      "name": "python3",
      "display_name": "Python 3"
    },
    "language_info": {
      "name": "python"
    }
  },
  "cells": [
    {
      "cell_type": "markdown",
      "metadata": {
        "id": "view-in-github",
        "colab_type": "text"
      },
      "source": [
        "<a href=\"https://colab.research.google.com/github/jh-wisdom/Python/blob/main/%EC%BD%94%EB%93%9C%EC%97%852%EC%9D%98_%EC%82%AC%EB%B3%B8.ipynb\" target=\"_parent\"><img src=\"https://colab.research.google.com/assets/colab-badge.svg\" alt=\"Open In Colab\"/></a>"
      ]
    },
    {
      "cell_type": "code",
      "execution_count": 2,
      "metadata": {
        "id": "yONqEfGagkkJ",
        "colab": {
          "base_uri": "https://localhost:8080/"
        },
        "outputId": "0409eadf-84ee-48c2-93f8-f6dad586fa54"
      },
      "outputs": [
        {
          "output_type": "stream",
          "name": "stdout",
          "text": [
            "f\n",
            "abcdef"
          ]
        }
      ],
      "source": [
        "c = ord(input())\n",
        "t = ord('a')\n",
        "\n",
        "while t <=c :\n",
        "    print(chr(t), end ='')\n",
        "    t+=1"
      ]
    },
    {
      "cell_type": "markdown",
      "source": [
        "알파벳 문자 a의 정수값은 ord('a')로 알아낼 수 있다.\n",
        "chr(정수값)을 이용하면 유니코드 문자로 출력할 수 있다.\n",
        "print(..., end=' ') 와 같이 작성하면 값 출력 후 공백문자 ' '를 출력한다. 즉, 마지막에 줄을 바꾸지 않고 빈칸만 띄운다.\n",
        "(end='\\n'로 작성하거나 생략하면, 값을 출력한 후 마지막(end)에 줄바꿈(newline)이 된다.)"
      ],
      "metadata": {
        "id": "iKRLpG_ohTht"
      }
    },
    {
      "cell_type": "code",
      "source": [
        "n = int(input())\n",
        "a=0\n",
        "while a != n+1 :\n",
        "    print(a,end='\\n')\n",
        "    a+=1"
      ],
      "metadata": {
        "colab": {
          "base_uri": "https://localhost:8080/"
        },
        "id": "VRKuMw0GhVys",
        "outputId": "cda85aab-9dc7-44d3-fcdb-f32c07da1920"
      },
      "execution_count": 4,
      "outputs": [
        {
          "output_type": "stream",
          "name": "stdout",
          "text": [
            "5\n",
            "0\n",
            "1\n",
            "2\n",
            "3\n",
            "4\n",
            "5\n"
          ]
        }
      ]
    },
    {
      "cell_type": "code",
      "source": [
        "n= int(input())\n",
        "\n",
        "for i in range(n+1) :\n",
        "    print(i,end='\\n')"
      ],
      "metadata": {
        "colab": {
          "base_uri": "https://localhost:8080/"
        },
        "id": "QCQli-CwjRry",
        "outputId": "5ad8900e-6753-4c0d-bc87-1db4fd24f16a"
      },
      "execution_count": 6,
      "outputs": [
        {
          "output_type": "stream",
          "name": "stdout",
          "text": [
            "8\n",
            "0\n",
            "1\n",
            "2\n",
            "3\n",
            "4\n",
            "5\n",
            "6\n",
            "7\n",
            "8\n"
          ]
        }
      ]
    },
    {
      "cell_type": "markdown",
      "source": [
        "ange(n) 은 0, 1, 2, ... , n-2, n-1 까지의 수열을 의미한다.\n",
        "예를 들어 range(3) 은 0, 1, 2 인 수열을 의미한다.\n",
        "\n",
        "for i in range(n) :    #range(n)에 들어있는(in) 각각의 수에 대해서(for) 순서대로 i에 저장해 가면서...\n",
        "이때의 for는 각각의 값에 대하여... 라는 for each 의 의미를 가진다고 생각할 수 있다.\n",
        "\n",
        "range(끝)\n",
        "range(시작, 끝)\n",
        "range(시작, 끝, 증감)\n",
        "형태로 수열을 표현할 수 있다. 시작 수는 포함이고, 끝 수는 포함되지 않는다. [시작, 끝)\n",
        "증감할 수를 작성하지 않으면 +1이 된다.\n",
        "\n",
        "반복 실행구조에 반복 횟수를 기록/저장하는 변수로 i를 자주 사용하는데,\n",
        "i 는 반복자(iterator)를 나타내는 i라고 생각할 수 있다. i, j, k ... 알파벳 순으로 사용하기도 한다.\n"
      ],
      "metadata": {
        "id": "lAGVqUcrkBzn"
      }
    },
    {
      "cell_type": "code",
      "source": [
        "# 입력받은 수 중 짝수의 합 출력\n",
        "n=int(input())\n",
        "sum =0\n",
        "\n",
        "for i in range(1,n+1) :\n",
        "    if i%2 == 0:\n",
        "        sum+=i\n",
        "print(sum)"
      ],
      "metadata": {
        "colab": {
          "base_uri": "https://localhost:8080/"
        },
        "id": "XVaVLPUtj6co",
        "outputId": "374941de-7503-4fcc-d8c1-fc3fa0b44902"
      },
      "execution_count": 7,
      "outputs": [
        {
          "output_type": "stream",
          "name": "stdout",
          "text": [
            "8\n",
            "20\n"
          ]
        }
      ]
    },
    {
      "cell_type": "code",
      "source": [
        "#영문 소문자 'q'가 입력될 때까지 입력한 문자를 계속 출력\n",
        "c = ord(input())\n",
        "\n",
        "while c != ord('q') :\n",
        "    print(chr(c))\n",
        "    c = ord(input())"
      ],
      "metadata": {
        "colab": {
          "base_uri": "https://localhost:8080/"
        },
        "id": "EisV-eNOlL6i",
        "outputId": "d34a8e78-cf1f-4143-cd33-003dfd525ec8"
      },
      "execution_count": 18,
      "outputs": [
        {
          "name": "stdout",
          "output_type": "stream",
          "text": [
            "d\n",
            "d\n",
            "e\n",
            "e\n",
            "q\n"
          ]
        }
      ]
    },
    {
      "cell_type": "code",
      "source": [
        "# 1,2,3... 더하다 그 합이 입력받은 수 보다 같거나 작을때 출력\n",
        "n = int(input())\n",
        "i=0\n",
        "sum=0\n",
        "while sum<=n :\n",
        "    i+=1\n",
        "    sum+=i\n",
        "print(i)\n",
        "\n"
      ],
      "metadata": {
        "colab": {
          "base_uri": "https://localhost:8080/"
        },
        "id": "xMR68YlIlM5o",
        "outputId": "152166c3-228e-4f4d-e381-e959af8ae960"
      },
      "execution_count": 35,
      "outputs": [
        {
          "output_type": "stream",
          "name": "stdout",
          "text": [
            "5\n",
            "3\n"
          ]
        }
      ]
    },
    {
      "cell_type": "code",
      "source": [
        "n,m = input().split()\n",
        "n=int(n)\n",
        "m=int(m)\n",
        "\n",
        "for i in range(1,n+1) :\n",
        "    for j in range(1, m+1) :\n",
        "        print(i,j)"
      ],
      "metadata": {
        "colab": {
          "base_uri": "https://localhost:8080/"
        },
        "id": "3RNx8A_9oN20",
        "outputId": "223936f1-fe92-4722-f7ca-fed02c9f679d"
      },
      "execution_count": 37,
      "outputs": [
        {
          "output_type": "stream",
          "name": "stdout",
          "text": [
            "2 3\n",
            "1 1\n",
            "1 2\n",
            "1 3\n",
            "2 1\n",
            "2 2\n",
            "2 3\n"
          ]
        }
      ]
    },
    {
      "cell_type": "code",
      "source": [
        "# 16진수 입력받아 구구단 출력\n",
        "\n",
        "n=int(input(),16)\n",
        "\n",
        "for i in range(1,16) :\n",
        "    print('%X*%X=%X' %(n,i,n*i))\n",
        "#print('%X'%n, '*%X'%i, '=%X'%(n*i), sep='')"
      ],
      "metadata": {
        "colab": {
          "base_uri": "https://localhost:8080/"
        },
        "id": "jfU1qT-Tunrm",
        "outputId": "92539583-f51f-4aea-b647-8789b9b765f4"
      },
      "execution_count": 49,
      "outputs": [
        {
          "output_type": "stream",
          "name": "stdout",
          "text": [
            "b\n",
            "B*1=B\n",
            "B*2=16\n",
            "B*3=21\n",
            "B*4=2C\n",
            "B*5=37\n",
            "B*6=42\n",
            "B*7=4D\n",
            "B*8=58\n",
            "B*9=63\n",
            "B*A=6E\n",
            "B*B=79\n",
            "B*C=84\n",
            "B*D=8F\n",
            "B*E=9A\n",
            "B*F=A5\n"
          ]
        }
      ]
    },
    {
      "cell_type": "code",
      "source": [
        "# 3 6 9 게임\n",
        "n = int(input())\n",
        "\n",
        "for i in range(1,n+1) :\n",
        "    if i % 10 ==3 :\n",
        "        print('X', end=' ')\n",
        "    elif i % 10 ==6 :\n",
        "        print('X', end=' ')\n",
        "    elif i % 10 ==9 :\n",
        "        print('X', end=' ')      \n",
        "    else :\n",
        "        print(i, end=' ')         \n"
      ],
      "metadata": {
        "colab": {
          "base_uri": "https://localhost:8080/"
        },
        "id": "gPv6X3Z3v_7A",
        "outputId": "ad463c02-aaa6-4966-e472-ee048d9deb7d"
      },
      "execution_count": 59,
      "outputs": [
        {
          "output_type": "stream",
          "name": "stdout",
          "text": [
            "5\n",
            "1 2 X 4 5 "
          ]
        }
      ]
    },
    {
      "cell_type": "code",
      "source": [
        "# rgb 코드 숫자를 받아 경우의 수 구하기\n",
        "r,g,b = input().split()\n",
        "r = int(r)\n",
        "g = int(g)\n",
        "b = int(b)\n",
        "count =0\n",
        "for i in range(r) :\n",
        "    for j in range(g) :\n",
        "        for k in range(b) :\n",
        "            print(i,j,k,end='\\n') \n",
        "            count+=1\n",
        "print(count)"
      ],
      "metadata": {
        "colab": {
          "base_uri": "https://localhost:8080/"
        },
        "id": "l5jAKBiAzNVx",
        "outputId": "ab8fe453-3767-4e1d-f383-59121a914992"
      },
      "execution_count": 66,
      "outputs": [
        {
          "output_type": "stream",
          "name": "stdout",
          "text": [
            "2 2 2\n",
            "0 0 0\n",
            "0 0 1\n",
            "0 1 0\n",
            "0 1 1\n",
            "1 0 0\n",
            "1 0 1\n",
            "1 1 0\n",
            "1 1 1\n",
            "8\n"
          ]
        }
      ]
    },
    {
      "cell_type": "markdown",
      "source": [
        "1초 동안 마이크로 소리강약을 체크하는 횟수를 h\n",
        "(헤르쯔, Hz 는 1초에 몇 번? 체크하는가를 의미한다.)\n",
        "\n",
        "한 번 체크한 값을 저장할 때 사용하는 비트수를 b\n",
        "(2비트를 사용하면 0 또는 1 두 가지, 16비트를 사용하면 65536가지..)\n",
        "\n",
        "좌우 등 소리를 저장할 트랙 개수인 채널 개수를 c\n",
        "(모노는 1개, 스테레오는 2개의 트랙으로 저장함을 의미한다.)\n",
        "\n",
        "녹음할 시간(초) s가 주어질 때,\n",
        "\n",
        "필요한 저장 용량을 계산하는 프로그램을 작성해보자.\n",
        "\n",
        "실제로, 일반적인 CD 음질(44.1KHz, 16bit, 스테레오)로 1초 동안 저장하려면\n",
        "44100 * 16 * 2 * 1 bit의 저장공간이 필요한데,\n",
        "44100*16*2*1/8/1024/1024 로 계산하면 약 0.168 MB 정도가 필요하다.\n",
        "\n",
        "이렇게 녹음하는 방식을 PCM(Pulse Code Modulation) 방법이라고 하는데,\n",
        "압축하지 않은 순수한(raw) 소리 데이터 파일은 대표적으로 *.wav 가 있다.\n",
        "\n",
        "**\n",
        "      8 bit(비트)           = 1byte(바이트)       # 8bit=1Byte\n",
        "1024 Byte(210 byte) = 1KB(킬로 바이트)  # 1024Byte=1KB\n",
        "1024 KB(210 KB)      = 1MB(메가 바이트)\n",
        "1024 MB(210 MB)     = 1GB(기가 바이트)\n",
        "1024 GB(210 GB)      = 1TB(테라 바이트)\n"
      ],
      "metadata": {
        "id": "avrRzS_b4Xun"
      }
    },
    {
      "cell_type": "code",
      "source": [
        "# 소리가 컴퓨터에 저장되는 용량 구하기\n",
        "# \n",
        "\n",
        "h,b,c,s = input().split()\n",
        "h = int(h)\n",
        "b = int(b)\n",
        "c = int(c)\n",
        "s = int(s)\n",
        "\n",
        "sum = h*b*c*s/8/1024/1024\n",
        "print(format(sum,'.1f'),'MB')"
      ],
      "metadata": {
        "colab": {
          "base_uri": "https://localhost:8080/"
        },
        "id": "OfoNDvUT1gMJ",
        "outputId": "ef82730c-7a0f-4615-e150-b47055cf125d"
      },
      "execution_count": 71,
      "outputs": [
        {
          "output_type": "stream",
          "name": "stdout",
          "text": [
            "44100 16 2 10\n",
            "1.7 MB\n"
          ]
        }
      ]
    },
    {
      "cell_type": "code",
      "source": [
        "w,h,b = input().split()\n",
        "w=int(w)\n",
        "h=int(h)\n",
        "b=int(b)\n",
        "sum = 0\n",
        "\n",
        "sum = w*h*b/8/1024/1024\n",
        "print(format(sum,'.2f'),'MB')"
      ],
      "metadata": {
        "colab": {
          "base_uri": "https://localhost:8080/"
        },
        "id": "Kf5YDTlw3rY6",
        "outputId": "e632b54f-394b-4e7d-8c74-1d552e9ddcd3"
      },
      "execution_count": 72,
      "outputs": [
        {
          "output_type": "stream",
          "name": "stdout",
          "text": [
            "1024 768 24\n",
            "2.2 MB\n"
          ]
        }
      ]
    },
    {
      "cell_type": "code",
      "source": [
        "n=int(input())\n",
        "i=0\n",
        "sum=0\n",
        "while sum<n :\n",
        "    sum += i\n",
        "    i += 1\n",
        "    \n",
        "print(sum)"
      ],
      "metadata": {
        "colab": {
          "base_uri": "https://localhost:8080/"
        },
        "id": "TKH9xanO5Nfj",
        "outputId": "075a761d-fdbd-4b5a-c339-809cfddc7806"
      },
      "execution_count": 77,
      "outputs": [
        {
          "output_type": "stream",
          "name": "stdout",
          "text": [
            "57\n",
            "66\n"
          ]
        }
      ]
    },
    {
      "cell_type": "code",
      "source": [
        "# 3의 배수 출력 안함\n",
        "n = int(input())\n",
        "\n",
        "for i in range(1,n+1):\n",
        "    if i % 3 !=0 :\n",
        "        print(i, end=' ')"
      ],
      "metadata": {
        "colab": {
          "base_uri": "https://localhost:8080/"
        },
        "id": "vx1VqIgs6XCb",
        "outputId": "e03fdba7-b48d-4a33-9e6b-fc7de4c6fc92"
      },
      "execution_count": 79,
      "outputs": [
        {
          "output_type": "stream",
          "name": "stdout",
          "text": [
            "10\n",
            "1 2 4 5 7 8 10 "
          ]
        }
      ]
    },
    {
      "cell_type": "code",
      "source": [
        "# 등차수열 시작값a 등차값b 몇번째수n n번째 수는?\n",
        "a,d,n = map(int,input().split())\n",
        "count =1\n",
        "\n",
        "while(count < n) :\n",
        "    a=a+d\n",
        "    count+=1\n",
        "print(a)\n"
      ],
      "metadata": {
        "colab": {
          "base_uri": "https://localhost:8080/"
        },
        "id": "EaXwRDOV77JM",
        "outputId": "b9604aff-71c7-4339-98c7-1f1f531b53f4"
      },
      "execution_count": 87,
      "outputs": [
        {
          "output_type": "stream",
          "name": "stdout",
          "text": [
            "1 3 5\n",
            "13\n"
          ]
        }
      ]
    },
    {
      "cell_type": "code",
      "source": [
        "# 등비수열 시작 값(a), 등비(r), 몇 번째정수(n)가 입력될 때 n번째 수?\n",
        "a,r,n = map(int,input().split())\n",
        "count =1\n",
        "\n",
        "while(count < n) :\n",
        "    a=a*r\n",
        "    count+=1\n",
        "print(a)"
      ],
      "metadata": {
        "colab": {
          "base_uri": "https://localhost:8080/"
        },
        "id": "xuz3Iawe9PXV",
        "outputId": "86573c05-d126-424c-9cfa-2b7cd8142b4d"
      },
      "execution_count": 88,
      "outputs": [
        {
          "output_type": "stream",
          "name": "stdout",
          "text": [
            "2 3 7\n",
            "1458\n"
          ]
        }
      ]
    },
    {
      "cell_type": "code",
      "source": [
        "# 시작 값(a), 곱할 값(m), 더할 값(d), 몇 번째(n)가 입력될 때,n번째 수는?\n",
        "a,m,d,n = map(int,input().split())\n",
        "count =1\n",
        "\n",
        "while(count < n) :\n",
        "    a=a*m+d\n",
        "    count+=1\n",
        "print(a)"
      ],
      "metadata": {
        "colab": {
          "base_uri": "https://localhost:8080/"
        },
        "id": "GUK8u9_lAI9G",
        "outputId": "7ca2dad1-470f-4704-ee69-c22c7263f60c"
      },
      "execution_count": 89,
      "outputs": [
        {
          "output_type": "stream",
          "name": "stdout",
          "text": [
            "1 -2 1 8\n",
            "-85\n"
          ]
        }
      ]
    },
    {
      "cell_type": "code",
      "source": [
        "#a,b,c 서로 다른 수 만큼 증가하다 만나는 값?\n",
        "a,b,c=map(int,input().split())\n",
        "day=1\n",
        "\n",
        "while day%a!=0 or day%b!=0 or day%c!=0 :\n",
        "    day+=1\n",
        "print(day)"
      ],
      "metadata": {
        "colab": {
          "base_uri": "https://localhost:8080/"
        },
        "id": "HCi7X46XAvHu",
        "outputId": "4290e0da-f0ae-4628-d637-724132d6207b"
      },
      "execution_count": 90,
      "outputs": [
        {
          "output_type": "stream",
          "name": "stdout",
          "text": [
            "3 7 9\n",
            "63\n"
          ]
        }
      ]
    },
    {
      "cell_type": "code",
      "source": [
        "# 랜덤출석 n번 부르고, 해당번호가 몇번 불렸는지 출력\n",
        "n= int(input())\n",
        "a = input().split()\n",
        "\n",
        "d=[]\n",
        "for i in range(24) :\n",
        "    d.append(0)\n",
        "\n",
        "for i in range(n) :\n",
        "    a[i] = int(a[i])\n",
        "    d[a[i]]+=1\n",
        "    \n",
        "for j in range(1,24) :\n",
        "    print(d[j],end=' ')"
      ],
      "metadata": {
        "colab": {
          "base_uri": "https://localhost:8080/"
        },
        "id": "LDuhMgsRMSy8",
        "outputId": "68e79bc8-4b94-4593-9c93-7622d578198d"
      },
      "execution_count": 92,
      "outputs": [
        {
          "output_type": "stream",
          "name": "stdout",
          "text": [
            "5\n",
            "1 22 22 21 5 \n",
            "1 0 0 0 1 0 0 0 0 0 0 0 0 0 0 0 0 0 0 0 1 2 0 "
          ]
        }
      ]
    },
    {
      "cell_type": "code",
      "source": [
        "n= int(input())\n",
        "a = input().split()\n",
        "\n",
        "\n",
        "for i in range(n) :\n",
        "    a[i] = int(a[i])\n",
        "\n",
        "for j in range(n-1,-1,-1) :\n",
        "    print(a[j],end=' ')"
      ],
      "metadata": {
        "colab": {
          "base_uri": "https://localhost:8080/"
        },
        "id": "lyS1cTclOV_-",
        "outputId": "fcfa59e3-c236-489e-dd11-ce4c95d138a6"
      },
      "execution_count": 95,
      "outputs": [
        {
          "output_type": "stream",
          "name": "stdout",
          "text": [
            "3\n",
            "12 22 23\n",
            "23 22 12 "
          ]
        }
      ]
    },
    {
      "cell_type": "code",
      "source": [
        "# 여러개의 수 입력해서 제일 작은 수 출력\n",
        "n = int(input())\n",
        "a = input().split()\n",
        "\n",
        "for i in range(n) :\n",
        "    a[i] = int(a[i])\n",
        "\n",
        "min = a[0]\n",
        "for i in range(0,n) :\n",
        "    if min > a[i] :\n",
        "        min = a[i]\n",
        "\n",
        "print(min)\n",
        "        "
      ],
      "metadata": {
        "colab": {
          "base_uri": "https://localhost:8080/"
        },
        "id": "LppDEb2fQOX-",
        "outputId": "2d54e220-c1a6-4960-b983-907a7996c4de"
      },
      "execution_count": 104,
      "outputs": [
        {
          "output_type": "stream",
          "name": "stdout",
          "text": [
            "3\n",
            "12 8 11\n",
            "8\n"
          ]
        }
      ]
    },
    {
      "cell_type": "code",
      "source": [
        "# 바둑 둔 곳에 1 출력\n",
        "# 배열 초기화 = 0 입력\n",
        "on=[]\n",
        "for i in range(20) :\n",
        "    on.append([])\n",
        "    for j in range(20) :\n",
        "        on[i].append(0)\n",
        "\n",
        "# 입력받은 위치에 1 입력\n",
        "n = int(input())\n",
        "for i in range(n) :\n",
        "    a,b = input().split()\n",
        "    on[int(a)][int(b)] =1\n",
        "\n",
        "# 배열 전체 출력\n",
        "for i in range(1,20) :\n",
        "    for j in range(1,20) :\n",
        "        print(on[i][j], end=' ')\n",
        "    print()"
      ],
      "metadata": {
        "colab": {
          "base_uri": "https://localhost:8080/"
        },
        "id": "R3tKE-YuRjMf",
        "outputId": "a8d8eb5f-d11b-4a48-ac46-ddf9cbd71965"
      },
      "execution_count": 111,
      "outputs": [
        {
          "output_type": "stream",
          "name": "stdout",
          "text": [
            "3\n",
            "1 1\n",
            "2 1\n",
            "3 3\n",
            "1 0 0 0 0 0 0 0 0 0 0 0 0 0 0 0 0 0 0 \n",
            "1 0 0 0 0 0 0 0 0 0 0 0 0 0 0 0 0 0 0 \n",
            "0 0 1 0 0 0 0 0 0 0 0 0 0 0 0 0 0 0 0 \n",
            "0 0 0 0 0 0 0 0 0 0 0 0 0 0 0 0 0 0 0 \n",
            "0 0 0 0 0 0 0 0 0 0 0 0 0 0 0 0 0 0 0 \n",
            "0 0 0 0 0 0 0 0 0 0 0 0 0 0 0 0 0 0 0 \n",
            "0 0 0 0 0 0 0 0 0 0 0 0 0 0 0 0 0 0 0 \n",
            "0 0 0 0 0 0 0 0 0 0 0 0 0 0 0 0 0 0 0 \n",
            "0 0 0 0 0 0 0 0 0 0 0 0 0 0 0 0 0 0 0 \n",
            "0 0 0 0 0 0 0 0 0 0 0 0 0 0 0 0 0 0 0 \n",
            "0 0 0 0 0 0 0 0 0 0 0 0 0 0 0 0 0 0 0 \n",
            "0 0 0 0 0 0 0 0 0 0 0 0 0 0 0 0 0 0 0 \n",
            "0 0 0 0 0 0 0 0 0 0 0 0 0 0 0 0 0 0 0 \n",
            "0 0 0 0 0 0 0 0 0 0 0 0 0 0 0 0 0 0 0 \n",
            "0 0 0 0 0 0 0 0 0 0 0 0 0 0 0 0 0 0 0 \n",
            "0 0 0 0 0 0 0 0 0 0 0 0 0 0 0 0 0 0 0 \n",
            "0 0 0 0 0 0 0 0 0 0 0 0 0 0 0 0 0 0 0 \n",
            "0 0 0 0 0 0 0 0 0 0 0 0 0 0 0 0 0 0 0 \n",
            "0 0 0 0 0 0 0 0 0 0 0 0 0 0 0 0 0 0 0 \n"
          ]
        }
      ]
    },
    {
      "cell_type": "markdown",
      "source": [
        "d=[]\n",
        "for i in range(20) : \n",
        "  d.append([])\n",
        "  for j in range(20) :  \n",
        "    d[i].append(0)\n",
        "... \n",
        "\n",
        "위와 같이, 모두 0이 채워진 2차원 리스트를 만드는 코드를 아래와 같은 방법으로 짧게 만들 수도 있다.\n",
        "... [0 for j in range(20)]  #20개의 0이 들어간 [0, 0, 0, ... , 0, 0, 0] 리스트 \n",
        "아래처럼 작성하면 위와 같은 리스트가 20개가 들어간 리스트를 한 번에 만들어 준다.\n",
        "\n",
        "d = [[0 for j in range(20)] for i in range(20)]\n",
        "\n",
        "이러한 리스트 생성 방식을 List Comprehensions 라고 한다."
      ],
      "metadata": {
        "id": "WnBZ6w-hYAU0"
      }
    },
    {
      "cell_type": "code",
      "source": [
        "d=[] \n",
        "for i in range(20) : \n",
        "    d.append([]) \n",
        "    for j in range(20) : \n",
        "        d[i].append(0) \n",
        "        \n",
        "for i in range(19): \n",
        "   a = input().split()\n",
        "   for j in range(19):\n",
        "       d[i+1][j+1]=int(a[j])\n",
        "\n",
        "\n",
        "n = int(input()) \n",
        "for i in range(n) :\n",
        "  x,y=map(int,input().split())\n",
        "  for j in range(1, 20) :\n",
        "    if d[j][y]==0 :\n",
        "      d[j][y]=1\n",
        "    else :\n",
        "      d[j][y]=0\n",
        "\n",
        "    if d[x][j]==0 :\n",
        "      d[x][j]=1\n",
        "    else :\n",
        "      d[x][j]=0\n",
        "\n",
        "for i in range(1,20) :\n",
        "    for j in range(1,20) :\n",
        "        print(d[i][j], end=' ')\n",
        "    print()"
      ],
      "metadata": {
        "colab": {
          "base_uri": "https://localhost:8080/"
        },
        "id": "IMgFyHucWrRC",
        "outputId": "b1d77684-04d6-4e7c-d8bc-4e9b471d3cb2"
      },
      "execution_count": 129,
      "outputs": [
        {
          "output_type": "stream",
          "name": "stdout",
          "text": [
            "0 0 0 0 0 0 0 0 0 1 0 1 0 0 0 0 0 0 0\n",
            "0 0 0 0 0 0 0 0 0 1 0 1 0 0 0 0 0 0 0\n",
            "0 0 0 0 0 0 0 0 0 1 0 1 0 0 0 0 0 0 0\n",
            "0 0 0 0 0 0 0 0 0 1 0 1 0 0 0 0 0 0 0\n",
            "0 0 0 0 0 0 0 0 0 1 0 1 0 0 0 0 0 0 0\n",
            "0 0 0 0 0 0 0 0 0 1 0 1 0 0 0 0 0 0 0\n",
            "0 0 0 0 0 0 0 0 0 1 0 1 0 0 0 0 0 0 0\n",
            "0 0 0 0 0 0 0 0 0 1 0 1 0 0 0 0 0 0 0\n",
            "0 0 0 0 0 0 0 0 0 1 0 1 0 0 0 0 0 0 0\n",
            "1 1 1 1 1 1 1 1 1 1 1 1 1 1 1 1 1 1 1\n",
            "0 0 0 0 0 0 0 0 0 1 0 1 0 0 0 0 0 0 0\n",
            "1 1 1 1 1 1 1 1 1 1 1 1 1 1 1 1 1 1 1\n",
            "0 0 0 0 0 0 0 0 0 1 0 1 0 0 0 0 0 0 0\n",
            "0 0 0 0 0 0 0 0 0 1 0 1 0 0 0 0 0 0 0\n",
            "0 0 0 0 0 0 0 0 0 1 0 1 0 0 0 0 0 0 0\n",
            "0 0 0 0 0 0 0 0 0 1 0 1 0 0 0 0 0 0 0\n",
            "0 0 0 0 0 0 0 0 0 1 0 1 0 0 0 0 0 0 0\n",
            "0 0 0 0 0 0 0 0 0 1 0 1 0 0 0 0 0 0 0\n",
            "0 0 0 0 0 0 0 0 0 1 0 1 0 0 0 0 0 0 0\n",
            "2\n",
            "10 10\n",
            "12 12\n",
            "0 0 0 0 0 0 0 0 0 0 0 0 0 0 0 0 0 0 0 \n",
            "0 0 0 0 0 0 0 0 0 0 0 0 0 0 0 0 0 0 0 \n",
            "0 0 0 0 0 0 0 0 0 0 0 0 0 0 0 0 0 0 0 \n",
            "0 0 0 0 0 0 0 0 0 0 0 0 0 0 0 0 0 0 0 \n",
            "0 0 0 0 0 0 0 0 0 0 0 0 0 0 0 0 0 0 0 \n",
            "0 0 0 0 0 0 0 0 0 0 0 0 0 0 0 0 0 0 0 \n",
            "0 0 0 0 0 0 0 0 0 0 0 0 0 0 0 0 0 0 0 \n",
            "0 0 0 0 0 0 0 0 0 0 0 0 0 0 0 0 0 0 0 \n",
            "0 0 0 0 0 0 0 0 0 0 0 0 0 0 0 0 0 0 0 \n",
            "0 0 0 0 0 0 0 0 0 1 0 1 0 0 0 0 0 0 0 \n",
            "0 0 0 0 0 0 0 0 0 0 0 0 0 0 0 0 0 0 0 \n",
            "0 0 0 0 0 0 0 0 0 1 0 1 0 0 0 0 0 0 0 \n",
            "0 0 0 0 0 0 0 0 0 0 0 0 0 0 0 0 0 0 0 \n",
            "0 0 0 0 0 0 0 0 0 0 0 0 0 0 0 0 0 0 0 \n",
            "0 0 0 0 0 0 0 0 0 0 0 0 0 0 0 0 0 0 0 \n",
            "0 0 0 0 0 0 0 0 0 0 0 0 0 0 0 0 0 0 0 \n",
            "0 0 0 0 0 0 0 0 0 0 0 0 0 0 0 0 0 0 0 \n",
            "0 0 0 0 0 0 0 0 0 0 0 0 0 0 0 0 0 0 0 \n",
            "0 0 0 0 0 0 0 0 0 0 0 0 0 0 0 0 0 0 0 \n"
          ]
        }
      ]
    },
    {
      "cell_type": "code",
      "source": [
        "# 격자판의 세로h 가로w 막대개수n개\n",
        "h,w = map(int,input().split())\n",
        "n = int(input())\n",
        "\n",
        "#격자판배열 0 초기화\n",
        "pan=[]\n",
        "for i in range(h) :\n",
        "    pan.append([])\n",
        "    for j in range(w) :\n",
        "        pan[i].append(0)\n",
        "\n",
        "for i in range(n) :\n",
        "    # 막대길이=ㅣ 막대방향=d 막대놓는 좌표(x,y)\n",
        "    l,d,x,y = map(int,input().split())\n",
        "    # 막대를 가로로 놓을 경우\n",
        "    if(d == 0) :\n",
        "        for j in range(l):\n",
        "            pan[x-1][y-1+j] = 1\n",
        "    # 막대를 세로로 놓을 경우\n",
        "    else :\n",
        "        for j in range(l) :\n",
        "            pan[x-1+j][y-1] = 1\n",
        "# 격자판 출력\n",
        "for i in range(h) :\n",
        "    for j in range(w) :\n",
        "        print(pan[i][j],end=' ')\n",
        "    print()"
      ],
      "metadata": {
        "colab": {
          "base_uri": "https://localhost:8080/"
        },
        "id": "EtIMSUiBZVgz",
        "outputId": "8995f367-301c-4825-c606-a88af85e9088"
      },
      "execution_count": 131,
      "outputs": [
        {
          "output_type": "stream",
          "name": "stdout",
          "text": [
            "5 5\n",
            "3\n",
            "2 0 1 1\n",
            "3 1 2 3\n",
            "4 1 2 5\n",
            "1 1 0 0 0 \n",
            "0 0 1 0 1 \n",
            "0 0 1 0 1 \n",
            "0 0 1 0 1 \n",
            "0 0 0 0 1 \n"
          ]
        }
      ]
    },
    {
      "cell_type": "code",
      "source": [
        "# 미로에서 물건(2) 찾기\n",
        "\n",
        "\n",
        "bo=[]\n",
        "# 미로 배열 정수값 입력받아 값 넣기\n",
        "for i in range(10) :\n",
        "    bo.append(list(map(int, input().split())))\n",
        "\n",
        "# (x,y) 값 초기화\n",
        "x,y = 1,1\n",
        "\n",
        "while True :\n",
        "    # 물건이 있으면 지나가는 값 9로 변경 후 break\n",
        "    if bo[x][y]==2 :\n",
        "        bo[x][y]=9\n",
        "        break\n",
        "    # 값이 1은 벽이므로, 벽이 아니면 값 9로 변경후 아래쪽 전진\n",
        "    if bo[x][y+1]!=1 :\n",
        "        bo[x][y]=9\n",
        "        y+=1\n",
        "    else :\n",
        "    # 값이 1은 벽이므로, 벽이 아니면 값 9로 변경후 오른쪽 전진    \n",
        "        if bo[x+1][y] !=1 :\n",
        "            bo[x][y] = 9\n",
        "            x+=1\n",
        "    # 이미 지나간 자리이면 break\n",
        "        else :\n",
        "            bo[x][y]=9\n",
        "            break   \n",
        "\n",
        "# 미로배열 출력\n",
        "for i in range(10) :\n",
        "    for j in range(10) :\n",
        "        print(bo[i][j],end=' ')\n",
        "    print()"
      ],
      "metadata": {
        "colab": {
          "base_uri": "https://localhost:8080/"
        },
        "id": "kPXK9W2kqFSy",
        "outputId": "60eb88cf-9107-411a-bd51-3fa708f79875"
      },
      "execution_count": 1,
      "outputs": [
        {
          "output_type": "stream",
          "name": "stdout",
          "text": [
            "1 1 1 1 1 1 1 1 1 1\n",
            "1 0 0 1 0 0 0 0 0 1\n",
            "1 0 0 1 1 1 0 0 0 1\n",
            "1 0 0 0 0 0 0 1 0 1\n",
            "1 0 0 0 0 0 0 1 0 1\n",
            "1 0 0 0 0 1 0 1 0 1\n",
            "1 0 0 0 0 1 2 1 0 1\n",
            "1 0 0 0 0 1 0 0 0 1\n",
            "1 0 0 0 0 0 0 0 0 1\n",
            "1 1 1 1 1 1 1 1 1 1\n",
            "1 1 1 1 1 1 1 1 1 1 \n",
            "1 9 9 1 0 0 0 0 0 1 \n",
            "1 0 9 1 1 1 0 0 0 1 \n",
            "1 0 9 9 9 9 9 1 0 1 \n",
            "1 0 0 0 0 0 9 1 0 1 \n",
            "1 0 0 0 0 1 9 1 0 1 \n",
            "1 0 0 0 0 1 9 1 0 1 \n",
            "1 0 0 0 0 1 0 0 0 1 \n",
            "1 0 0 0 0 0 0 0 0 1 \n",
            "1 1 1 1 1 1 1 1 1 1 \n"
          ]
        }
      ]
    },
    {
      "cell_type": "code",
      "source": [
        ""
      ],
      "metadata": {
        "id": "r8fgqQ6kt3YN"
      },
      "execution_count": null,
      "outputs": []
    }
  ]
}