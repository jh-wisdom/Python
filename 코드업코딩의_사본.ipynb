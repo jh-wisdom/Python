{
  "nbformat": 4,
  "nbformat_minor": 0,
  "metadata": {
    "colab": {
      "name": "코드업코딩의 사본",
      "provenance": [],
      "authorship_tag": "ABX9TyOkOB/P5wJbKTDAEZvsiNiu",
      "include_colab_link": true
    },
    "kernelspec": {
      "name": "python3",
      "display_name": "Python 3"
    },
    "language_info": {
      "name": "python"
    }
  },
  "cells": [
    {
      "cell_type": "markdown",
      "metadata": {
        "id": "view-in-github",
        "colab_type": "text"
      },
      "source": [
        "<a href=\"https://colab.research.google.com/github/jh-wisdom/Python/blob/main/%EC%BD%94%EB%93%9C%EC%97%85%EC%BD%94%EB%94%A9%EC%9D%98_%EC%82%AC%EB%B3%B8.ipynb\" target=\"_parent\"><img src=\"https://colab.research.google.com/assets/colab-badge.svg\" alt=\"Open In Colab\"/></a>"
      ]
    },
    {
      "cell_type": "markdown",
      "source": [
        "[실행 관련 단축키]\n",
        "\n",
        "1. Ctrl + Enter = 해당 셀을 실행하고 커서를 해당 셀에 두는 경우 (결과 값만 보고자 할 때)\n",
        "\n",
        "2. Shift + Enter = 해당 셀을 실행하고 커서를 다음 셀로 넘기는 경우 (여러가지 값을 빠르게 출력할 때)\n",
        "\n",
        "3. Alt + Enter = 해당 셀을 실행하고 셀을 삽입한 후 커서를 삽입한 셀로 넘기는 경우 (다음 작업 공간이 없을 때)\n",
        "\n",
        " \n",
        "\n",
        " \n",
        "\n",
        "[셀 삽입/삭제 관련 단축키]\n",
        "\n",
        "Ctrl + M A = 코드 셀 위에 삽입\n",
        "\n",
        "Ctrl + M B = 코드 셀 아래 삽입\n",
        "\n",
        "Ctrl + M D = 셀 지우기\n",
        "\n",
        "Ctrl + M Y = 코드 셀로 변경\n",
        "\n",
        "Ctrl + M M = 마크다운 셀로 변경\n",
        "\n",
        "Ctrl + M Z = 실행 취소\n",
        "\n",
        "Ctrl + F9 = 노트의 모든 셀 실행\n"
      ],
      "metadata": {
        "id": "xG5APoYSmTxw"
      }
    },
    {
      "cell_type": "code",
      "source": [
        ""
      ],
      "metadata": {
        "id": "gA1hx2gspvex"
      },
      "execution_count": null,
      "outputs": []
    },
    {
      "cell_type": "markdown",
      "source": [
        "15번\n",
        "공백을 두고 입력된정수(integer) 2개를 입력받아 줄을 바꿔 출력해보자.\n",
        "\n",
        "예시\n",
        "a, b = input().split()\n",
        "print(a)\n",
        "print(b)\n",
        "과 같은 방법으로 두 정수를 입력받아 출력할 수 있다.\n",
        "\n",
        "참고\n",
        "python의 input()은 한 줄 단위로 입력을 받는다.\n",
        "input().split() 를 사용하면, 공백을 기준으로 입력된 값들을 나누어(split) 자른다.\n",
        "a, b = 1, 2\n",
        "를 실행하면, a에는 1 b에는 2가 저장된다.\n",
        "(주의 : 하지만, 다른 일반적인 프로그래밍언어에서는 이러한 방법을 지원하지 않기 때문에 a=1, b=2 를 한 번에 하나씩 따로 실행시켜야 한다.)"
      ],
      "metadata": {
        "id": "q1gU7pkomn1X"
      }
    },
    {
      "cell_type": "code",
      "source": [
        "a, b = input().split()\n",
        "print(a)\n",
        "print(b)"
      ],
      "metadata": {
        "colab": {
          "base_uri": "https://localhost:8080/"
        },
        "id": "Sknd8BP2mZfU",
        "outputId": "ae45f140-c982-4a0b-e224-7385e375dc62"
      },
      "execution_count": null,
      "outputs": [
        {
          "output_type": "stream",
          "name": "stdout",
          "text": [
            "1 23\n",
            "1\n",
            "23\n"
          ]
        }
      ]
    },
    {
      "cell_type": "markdown",
      "source": [
        "18번 24시간 시:분 형식으로 시간이 입력될 때, 그대로 출력하는 연습을 해보자.\n",
        "\n",
        "예시\n",
        "a, b = input().split(':')\n",
        "print(a, b, sep=':')\n",
        "와 같은 방법으로 가능하다.\n",
        "\n",
        "참고\n",
        "input().split(':') 를 사용하면 콜론 ':' 기호를 기준으로 자른다.\n",
        "print(?, ?, sep=':') 를 사용하면 콜론 ':' 기호를 사이에 두고 값을 출력한다.\n",
        "sep 는 분류기호(seperator)를 의미한다."
      ],
      "metadata": {
        "id": "LF5EwavXmcll"
      }
    },
    {
      "cell_type": "code",
      "source": [
        "\n",
        "a, b = input().split(':')\n",
        "print(a, b, sep=':')\n"
      ],
      "metadata": {
        "colab": {
          "base_uri": "https://localhost:8080/"
        },
        "id": "WjvVJv2hmacb",
        "outputId": "dbf54733-8e92-486b-be81-41897a139c68"
      },
      "execution_count": null,
      "outputs": [
        {
          "output_type": "stream",
          "name": "stdout",
          "text": [
            "12:24\n",
            "12:24\n"
          ]
        }
      ]
    },
    {
      "cell_type": "code",
      "source": [
        "#\"연도.월.일\"을 입력받아 \"일-월-연도\" 순서로 바꿔 출력해보자.\n",
        "\n",
        "y,m,d=input().split('.')\n",
        "print(d,m,y,sep='-')\n"
      ],
      "metadata": {
        "colab": {
          "base_uri": "https://localhost:8080/"
        },
        "id": "2oY1On3yn11C",
        "outputId": "56872de2-e7b9-4264-f23e-beb9462fd45f"
      },
      "execution_count": null,
      "outputs": [
        {
          "output_type": "stream",
          "name": "stdout",
          "text": [
            "12.2.5\n",
            "5-2-12\n"
          ]
        }
      ]
    },
    {
      "cell_type": "code",
      "source": [
        "#주민번호 앞 6자리와 뒷 7자리가 '-'로 구분되어 입력받고 13자리 붙여서 출력한다.\n",
        "a,b=input().split('-')\n",
        "print(a+b)"
      ],
      "metadata": {
        "colab": {
          "base_uri": "https://localhost:8080/"
        },
        "id": "UGcQHyr3pwYB",
        "outputId": "955171f5-4e98-44d6-af76-e4d3dccabd53"
      },
      "execution_count": 1,
      "outputs": [
        {
          "output_type": "stream",
          "name": "stdout",
          "text": [
            "120123-1000000\n",
            "1201231000000\n"
          ]
        }
      ]
    },
    {
      "cell_type": "code",
      "source": [
        "#6자리의 연월일(YYMMDD)을 입력받아 2자리씩 나누어 출력해보자.\n",
        "#s[a:b] 라고 하면, s라는 단어에서 a번째 문자부터 b-1번째 문자까지 잘라낸 부분을 의미한다.\n",
        "\n",
        "s=input()\n",
        "print(s[0:2])\n",
        "print(s[2:4])\n",
        "print(s[4:6])"
      ],
      "metadata": {
        "colab": {
          "base_uri": "https://localhost:8080/"
        },
        "id": "W6C0dq5Vq61z",
        "outputId": "2fa85016-d0d5-4bc6-bcea-7578c7dcb363"
      },
      "execution_count": 2,
      "outputs": [
        {
          "output_type": "stream",
          "name": "stdout",
          "text": [
            "120123\n",
            "12\n",
            "01\n",
            "23\n"
          ]
        }
      ]
    },
    {
      "cell_type": "code",
      "source": [
        "# 두 단어 입력받아 붙여서 출력\n",
        "\n",
        "a,b=input().split()\n",
        "print(a+b)"
      ],
      "metadata": {
        "id": "P7zqC8QjskN6"
      },
      "execution_count": null,
      "outputs": []
    },
    {
      "cell_type": "markdown",
      "source": [
        "참고\n",
        "단어는 문자(character)들로 만든다.\n",
        "문자들로 구성된 문장을 문자열(string)이라고 부른다.\n",
        "문자열에는 공백문자(' ')가 포함될 수 있는데, \n",
        "문자 1개는 길이가 1인 문자열이라고 할 수 있고, 공백문자(' ')가 없는 문자열은 단어(word)라고 할 수 있다.\n",
        "\n",
        "일반적인 문장들은 공백으로 구분된 단어들로 만들어지기 때문에,\n",
        "공백문자로 구분된 문장에서 단어를 잘라내기 위해서는 공백문자(' ')를 기준으로 자르면 된다.\n",
        "키보드로 입력되는 것들은 기본적으로 문자열로 인식되고, 문자열끼리 더하기(+)를 실행하면,\n",
        "두 문자열을 합쳐 연결한(concatenate) 결과를 만들어 낸다."
      ],
      "metadata": {
        "id": "LpmvNKNrsp94"
      }
    },
    {
      "cell_type": "markdown",
      "source": [
        ""
      ],
      "metadata": {
        "id": "IJ2wmnUfsuC9"
      }
    },
    {
      "cell_type": "code",
      "source": [
        "#10진수를 입력받아 16진수(hexadecimal)로 출력\n",
        "a=int(input())\n",
        "print('%x'%a)"
      ],
      "metadata": {
        "colab": {
          "base_uri": "https://localhost:8080/"
        },
        "id": "0FUyiXN6vjCd",
        "outputId": "c05da284-b672-49be-8dd4-47d88f95a8b5"
      },
      "execution_count": 3,
      "outputs": [
        {
          "output_type": "stream",
          "name": "stdout",
          "text": [
            "255\n",
            "ff\n"
          ]
        }
      ]
    },
    {
      "cell_type": "code",
      "source": [
        "#16진수 입력받아 8진수(octal)로 출력\n",
        "a=int(input(),16)\n",
        "print('%o'%a)"
      ],
      "metadata": {
        "colab": {
          "base_uri": "https://localhost:8080/"
        },
        "id": "Cz2AiPk-wVQS",
        "outputId": "02a8b5e7-7971-47b9-ab85-75ac23c12a2c"
      },
      "execution_count": 4,
      "outputs": [
        {
          "output_type": "stream",
          "name": "stdout",
          "text": [
            "ab\n",
            "253\n"
          ]
        }
      ]
    },
    {
      "cell_type": "markdown",
      "source": [
        ""
      ],
      "metadata": {
        "id": "tNgtqiYAw-cu"
      }
    },
    {
      "cell_type": "markdown",
      "source": [
        "#영문자 1개를 입력받아 10진수 유니코드(Unicode) 값으로 출력\n",
        "n = ord(input())\n",
        "print(n)\n"
      ],
      "metadata": {
        "id": "q079UPoe5qCL"
      }
    },
    {
      "cell_type": "code",
      "source": [
        "#영문자 1개를 입력받아 그 다음 문자 출력\n",
        "n=ord(input())\n",
        "print(chr(n+1))"
      ],
      "metadata": {
        "colab": {
          "base_uri": "https://localhost:8080/"
        },
        "id": "Yd6LsA1O50Cf",
        "outputId": "9afef2da-ee85-4a1a-a55d-2290a82e73a6"
      },
      "execution_count": 11,
      "outputs": [
        {
          "output_type": "stream",
          "name": "stdout",
          "text": [
            "a\n",
            "b\n"
          ]
        }
      ]
    },
    {
      "cell_type": "code",
      "source": [
        "a,b=input().split()\n",
        "print(int(a)+int(b))"
      ],
      "metadata": {
        "colab": {
          "base_uri": "https://localhost:8080/"
        },
        "id": "6gefsRL56RSG",
        "outputId": "a2f58ad9-a89e-4284-ac25-4f1ce4a23897"
      },
      "execution_count": 12,
      "outputs": [
        {
          "output_type": "stream",
          "name": "stdout",
          "text": [
            "1 2\n",
            "3\n"
          ]
        }
      ]
    },
    {
      "cell_type": "code",
      "source": [
        "# 단어와 반복횟수 입력받아 여러번 출력\n",
        "a,n = input().split()\n",
        "print(a*int(n))"
      ],
      "metadata": {
        "colab": {
          "base_uri": "https://localhost:8080/"
        },
        "id": "iU_5Me1P6sRr",
        "outputId": "77c8089a-9c9e-48b0-8538-f0b6d7de38ec"
      },
      "execution_count": 14,
      "outputs": [
        {
          "output_type": "stream",
          "name": "stdout",
          "text": [
            "abc 5\n",
            "abcabcabcabcabc\n"
          ]
        }
      ]
    },
    {
      "cell_type": "code",
      "source": [
        "n,s=input().split()\n",
        "print(int(n)*s)"
      ],
      "metadata": {
        "colab": {
          "base_uri": "https://localhost:8080/"
        },
        "id": "eTvoHUGk7btd",
        "outputId": "a5212678-2f34-44b4-beff-4ed7e5fc38f9"
      },
      "execution_count": 15,
      "outputs": [
        {
          "output_type": "stream",
          "name": "stdout",
          "text": [
            "2 dkjkjkjkjk\n",
            "dkjkjkjkjkdkjkjkjkjk\n"
          ]
        }
      ]
    },
    {
      "cell_type": "code",
      "source": [
        "# 두 수 입력해서 몫// 나머지% 구하기\n",
        "a,b=input().split()\n",
        "print(int(a)//int(b))"
      ],
      "metadata": {
        "colab": {
          "base_uri": "https://localhost:8080/"
        },
        "id": "k1s8pQCe7_kl",
        "outputId": "b34813dc-d37b-4c76-b72a-b7ac321c7985"
      },
      "execution_count": 19,
      "outputs": [
        {
          "output_type": "stream",
          "name": "stdout",
          "text": [
            "25 3\n",
            "8\n"
          ]
        }
      ]
    },
    {
      "cell_type": "code",
      "source": [
        "# 실수 입력받아 소수 2번째자리까지 반올림\n",
        "a=float(input())\n",
        "print(format(a,\".2f\"))"
      ],
      "metadata": {
        "colab": {
          "base_uri": "https://localhost:8080/"
        },
        "id": "nhGOyAZQ85ce",
        "outputId": "2aa13085-9b72-454e-8297-a63f032d7a24"
      },
      "execution_count": 20,
      "outputs": [
        {
          "output_type": "stream",
          "name": "stdout",
          "text": [
            "23.5689\n",
            "23.57\n"
          ]
        }
      ]
    },
    {
      "cell_type": "code",
      "source": [
        "f1,f2=input().split()\n",
        "a=float(f1)/float(f2)\n",
        "print(format(a,\".4f\"))"
      ],
      "metadata": {
        "colab": {
          "base_uri": "https://localhost:8080/"
        },
        "id": "c7799JAd-KGt",
        "outputId": "c6f1897e-d08c-47c2-f3a8-8215a2d0b710"
      },
      "execution_count": 22,
      "outputs": [
        {
          "output_type": "stream",
          "name": "stdout",
          "text": [
            "12.45 23.56\n",
            "0.5284\n"
          ]
        }
      ]
    },
    {
      "cell_type": "code",
      "source": [
        "#정수 2개(a, b)를 입력받아 합, 차, 곱, 몫, 나머지, 나눈 값을 자동으로 계산해보자. \n",
        "#단 0 <= a, b <= 2147483647, b는 0이 아니다.\n",
        "a,b=input().split()\n",
        "\n",
        "print(int(a)+int(b))\n",
        "print(int(a)-int(b))\n",
        "print(int(a)*int(b))\n",
        "print(int(a)//int(b))\n",
        "print(int(a)%int(b))\n",
        "print(format(int(a)/int(b),'.2f'))"
      ],
      "metadata": {
        "colab": {
          "base_uri": "https://localhost:8080/"
        },
        "id": "nOpQxQXRAAdP",
        "outputId": "0962717c-9877-40d3-8bf7-68af0db2c00a"
      },
      "execution_count": 25,
      "outputs": [
        {
          "output_type": "stream",
          "name": "stdout",
          "text": [
            "23 8\n",
            "31\n",
            "15\n",
            "184\n",
            "2\n",
            "7\n",
            "2.88\n"
          ]
        }
      ]
    },
    {
      "cell_type": "code",
      "source": [
        "#합계 평균\n",
        "a,b,c = input().split()\n",
        "\n",
        "sum=int(a)+int(b)+int(c)\n",
        "ave =sum/3\n",
        "print(sum,format(ave,'.2f'))"
      ],
      "metadata": {
        "colab": {
          "base_uri": "https://localhost:8080/"
        },
        "id": "TFXfBPVEBA__",
        "outputId": "a878f11c-2c03-48c5-83ea-2b910b5fb844"
      },
      "execution_count": 26,
      "outputs": [
        {
          "output_type": "stream",
          "name": "stdout",
          "text": [
            "85 90 56\n",
            "231 77.00\n"
          ]
        }
      ]
    },
    {
      "cell_type": "code",
      "source": [
        "# 정수*2\n",
        "n=int(input())\n",
        "print(n<<1)"
      ],
      "metadata": {
        "colab": {
          "base_uri": "https://localhost:8080/"
        },
        "id": "1p2rmu5GChxg",
        "outputId": "04bc91c4-4afc-4318-bf20-67bd9919af87"
      },
      "execution_count": 27,
      "outputs": [
        {
          "output_type": "stream",
          "name": "stdout",
          "text": [
            "8\n",
            "16\n"
          ]
        }
      ]
    },
    {
      "cell_type": "markdown",
      "source": [
        "*2 를 계산한 값을 출력해도 되지만,\n",
        "정수를 2배로 곱하거나 나누어 계산해 주는 비트단위시프트연산자 <<, >>를 이용할 수 있다.\n",
        "컴퓨터 내부에는 2진수 형태로 값들이 저장되기 때문에,\n",
        "2진수 형태로 저장되어 있는 값들을 왼쪽(<<)이나 오른쪽(>>)으로\n",
        "지정한 비트 수만큼 밀어주면 2배씩 늘어나거나 1/2로 줄어드는데,\n",
        "\n",
        "왼쪽 비트시프트(<<)가 될 때에는 오른쪽에 0이 주어진 개수만큼 추가되고,\n",
        "오른쪽 비트시프트(>>)가 될 때에는 왼쪽에 0(0 또는 양의 정수인 경우)이나 1(음의 정수인 경우)이 개수만큼 추가되고,\n",
        "가장 오른쪽에 있는 1비트는 사라진다.\n",
        "\n",
        "예시\n",
        "n = 10\n",
        "print(n<<1)  #10을 2배 한 값인 20 이 출력된다.\n",
        "print(n>>1)  #10을 반으로 나눈 값인 5 가 출력된다.\n",
        "print(n<<2)  #10을 4배 한 값인 40 이 출력된다.\n",
        "print(n>>2)  #10을 반으로 나눈 후 다시 반으로 나눈 값인 2 가 출력된다.\n",
        "\n",
        "정수 10의 2진수 표현은 ... 1010 이다.\n",
        "10 << 1 을 계산하면 ... 10100 이 된다 이 값은 10진수로 20이다.\n",
        "10 >> 1 을 계산하면 ... 101 이 된다. 이 값은 10진수로 5이다.\n",
        "\n",
        "n = 10 과 같이 키보드로 입력받지 않고 직접 작성해 넣은 코드에서, 숫자로 시작하는 단어(식별자, identifier)는 자동으로 수로 인식된다.  \n",
        "\n",
        "n = 10 에서 10 은 10진수 정수 값으로 인식된다.\n",
        "변수 n 에 문자열을 저장하고 싶다면, n = \"10\" 또는 n = '10'으로 작성해 넣으면 되고,\n",
        "\n",
        "n = 10.0 으로 작성해 넣으면 자동으로 실수 값으로 저장된다.\n",
        "n = 0o10 으로 작성해 넣으면 8진수(octal) 10으로 인식되어 10진수 8값이 저장되고,\n",
        "n = 0xf 나 n = 0XF 으로 작성해 넣으면 16진수(hexadecimal) F로 인식되어 10진수 15값으로 저장된다.\n",
        "\n",
        "** python에서 실수 값에 대한 비트시프트 연산은 허용되지 않고 오류가 발생한다.\n",
        "(실수 값도 컴퓨터 내부적으로는 2진수 형태로 저장되고 비트시프트 처리가 될 수 있지만, python 에서는 허용하지 않는다.)\n"
      ],
      "metadata": {
        "id": "2Y3_vuHGDHKo"
      }
    },
    {
      "cell_type": "code",
      "source": [
        "#a의 b승배 2 10 => 2*1024\n",
        "a,b=input().split()\n",
        "print(int(a)<<int(b))\n"
      ],
      "metadata": {
        "colab": {
          "base_uri": "https://localhost:8080/"
        },
        "id": "Q8smYgw6DBjo",
        "outputId": "3a355de6-fe74-48ee-fd8c-8ed3d948c2ab"
      },
      "execution_count": 31,
      "outputs": [
        {
          "output_type": "stream",
          "name": "stdout",
          "text": [
            "2 10\n",
            "2048\n"
          ]
        }
      ]
    },
    {
      "cell_type": "code",
      "source": [
        "a,b=input().split()\n",
        "\n",
        "if int(a)<int(b) :\n",
        "    print(\"True\")\n",
        "else :\n",
        "    print(\"False\")"
      ],
      "metadata": {
        "colab": {
          "base_uri": "https://localhost:8080/"
        },
        "id": "DRh1M0kyEN-A",
        "outputId": "34724b31-29fb-482d-a920-ba3bdf7cdc63"
      },
      "execution_count": 32,
      "outputs": [
        {
          "output_type": "stream",
          "name": "stdout",
          "text": [
            "123\n",
            "456\n",
            "True\n"
          ]
        }
      ]
    },
    {
      "cell_type": "code",
      "source": [
        ""
      ],
      "metadata": {
        "id": "ZbS_dc_GGZrV"
      },
      "execution_count": null,
      "outputs": []
    },
    {
      "cell_type": "markdown",
      "source": [
        "어떤 값을 비교하기 위해 비교/관계(comparison/relational) 연산자(operator)를 사용할 수 있다.\n",
        "\n",
        "비교/관계연산자 < (less than sign) 는\n",
        "왼쪽의 값이 오른쪽 값 보다 작은 경우 True(참)로 계산하고,\n",
        "그 외의 경우에는 False(거짓)로 계산한다.\n",
        "\n",
        "비교/관계연산자도 일반적인 사칙연산자처럼 주어진 두 수를 이용해 계산을 수행하고,\n",
        "그 결과를 True(참), 또는 False(거짓)로 계산해 주는 연산자이다.\n",
        "\n",
        "비교/관계연산자는 <, >, <=, >=, ==(같다), !=(다르다) 6개가 있다.\n",
        "\n",
        "True(참) 또는 False(거짓) 값으로만 표현하고 저장하는 값을 불(bool)/불리언(boolean) 값이라고 한다.\n",
        "정수, 실수, 문자, 문자열과 마찬가지로 또 다른 형태의 데이터형(data type)이다.\n"
      ],
      "metadata": {
        "id": "CUb6vuw-FUip"
      }
    },
    {
      "cell_type": "code",
      "source": [
        "#정수가 입력되었을 때, True/False 로 평가해주는 프로그램\n",
        "n = int(input())\n",
        "print(bool(n))"
      ],
      "metadata": {
        "colab": {
          "base_uri": "https://localhost:8080/"
        },
        "id": "LgaDjkhEGbCi",
        "outputId": "14c3b859-71df-447e-f655-5648a44a9c33"
      },
      "execution_count": 40,
      "outputs": [
        {
          "output_type": "stream",
          "name": "stdout",
          "text": [
            "2\n",
            "True\n"
          ]
        }
      ]
    },
    {
      "cell_type": "code",
      "source": [
        "a,b=input().split()\n",
        "print(bool(int(a)) and bool(int(b)) )"
      ],
      "metadata": {
        "colab": {
          "base_uri": "https://localhost:8080/"
        },
        "id": "7jX3xZEFHPBa",
        "outputId": "f6b93742-6f75-4887-ff4e-7d8180dd7924"
      },
      "execution_count": 41,
      "outputs": [
        {
          "output_type": "stream",
          "name": "stdout",
          "text": [
            "5 6\n",
            "True\n"
          ]
        }
      ]
    },
    {
      "cell_type": "markdown",
      "source": [
        "and 예약어는 주어진 두 불 값이 모두 True 일 때에만 True 로 계산하고, 나머지 경우는 False 로 계산한다.\n",
        "이러한 논리연산을 AND 연산(boolean AND)이라고도 부르고, · 으로 표시하거나 생략하며, 집합 기호 ∩(교집합, intersection)로 표시하기도 한다. \n",
        "모두 같은 의미이다.\n",
        "\n",
        "참, 거짓의 논리값 인 불(boolean) 값을 다루어주는 예약어는 not, and, or 이 있고,\n",
        "불 값들 사이의 논리(not, and, or) 연산 결과도 마찬가지로 True 또는 False 의 불 값으로 계산된다.\n",
        "\n",
        "** 불 대수(boolean algebra)는 수학자 불이 만들어낸 것으로 True(참)/False(거짓) 값만 가지는 논리값과 그 값들 사이의 연산을 다룬다."
      ],
      "metadata": {
        "id": "-tlQ7cQdH-8U"
      }
    },
    {
      "cell_type": "code",
      "source": [
        "a,b=input().split()\n",
        "\n",
        "c=bool(int(a))\n",
        "d=bool(int(b))\n",
        "\n",
        "print((c and (not d)) or ((not c) and d))"
      ],
      "metadata": {
        "colab": {
          "base_uri": "https://localhost:8080/"
        },
        "id": "ugNtZ38vH5CS",
        "outputId": "b0f0c353-869c-4bfc-f95d-446963c72541"
      },
      "execution_count": 43,
      "outputs": [
        {
          "output_type": "stream",
          "name": "stdout",
          "text": [
            "5 9\n",
            "False\n"
          ]
        }
      ]
    },
    {
      "cell_type": "markdown",
      "source": [
        "참 거짓이 서로 다를 때에만 True 로 계산하는 논리연산을 XOR(exclusive or, 배타적 논리합) 연산이라고도 부른다.\n",
        "\n",
        "논리연산자는 사칙(+, -, *, /) 연산자와 마찬가지로 여러 번 중복해서 사용할 수 있는데, \n",
        "사칙 연산자와 마찬가지로 계산 순서를 표시하기 위해 괄호 ( )를 사용할 수 있다.\n",
        "괄호를 사용하면 계산 순서를 명확하게 표현할 수 있다.\n",
        "\n",
        "수학 식에서는 소괄호 (), 중괄호 {}, 대괄호 []를 사용하기도 하지만, 프로그래밍언어에서는 소괄호 ( ) 만 사용한다."
      ],
      "metadata": {
        "id": "uusBBsZgI8hY"
      }
    },
    {
      "cell_type": "code",
      "source": [
        "a,b=input().split()\n",
        "\n",
        "c=bool(int(a))\n",
        "d=bool(int(b))\n",
        "\n",
        "print(((not c) and (not d)) or (c and d))"
      ],
      "metadata": {
        "id": "HRQsrNb5J-q-"
      },
      "execution_count": null,
      "outputs": []
    },
    {
      "cell_type": "markdown",
      "source": [
        "입력 된 정수를 비트단위로 참/거짓을 바꾼 후 정수로 출력해보자.\n",
        "비트단위(bitwise)연산자 ~ 를 붙이면 된다.(~ : tilde, 틸드라고 읽는다.)\n",
        "\n",
        "** 비트단위(bitwise) 연산자는,\n",
        "~(bitwise not), &(bitwise and), |(bitwise or), ^(bitwise xor),\n",
        "<<(bitwise left shift), >>(bitwise right shift)\n",
        "가 있다.\n",
        "\n",
        "예를 들어 1이 입력되었을 때 저장되는 1을 32비트 2진수로 표현하면\n",
        "        00000000 00000000 00000000 00000001 이고,\n",
        "~1은 11111111 11111111 11111111 11111110 가 되는데 이는 -2를 의미한다."
      ],
      "metadata": {
        "id": "jve7XzvJLBkR"
      }
    },
    {
      "cell_type": "code",
      "source": [
        "a = 1\n",
        "print(~a)"
      ],
      "metadata": {
        "colab": {
          "base_uri": "https://localhost:8080/"
        },
        "id": "ZTEs_6f3LE-n",
        "outputId": "f04e72cf-62e0-4e95-e078-eb21bc244bf0"
      },
      "execution_count": 44,
      "outputs": [
        {
          "output_type": "stream",
          "name": "stdout",
          "text": [
            "-2\n"
          ]
        }
      ]
    },
    {
      "cell_type": "code",
      "source": [
        "# &연산자\n",
        "a,b=input().split()\n",
        "\n",
        "c=int(a)\n",
        "d=int(b)\n",
        "\n",
        "print(c & d)"
      ],
      "metadata": {
        "colab": {
          "base_uri": "https://localhost:8080/"
        },
        "id": "UqeaBagjLKkh",
        "outputId": "5e58e52e-8e1b-4bd1-ddbf-3773d2f73ffd"
      },
      "execution_count": 49,
      "outputs": [
        {
          "output_type": "stream",
          "name": "stdout",
          "text": [
            "12 5\n",
            "4\n"
          ]
        }
      ]
    },
    {
      "cell_type": "code",
      "source": [
        "#3항 연산자\n",
        "a,b=input().split()\n",
        "\n",
        "a=int(a)\n",
        "b=int(b)\n",
        "\n",
        "c=(a if(a>=b) else b)\n",
        "print(int(c))"
      ],
      "metadata": {
        "id": "OZ4eVj7sNbqs"
      },
      "execution_count": null,
      "outputs": []
    },
    {
      "cell_type": "markdown",
      "source": [
        "3개의 요소로 이루어지는 3항 연산은\n",
        "\"x if C else y\" 의 형태로 작성이 된다.\n",
        "- C : True 또는 False 를 평가할 조건식(conditional expression) 또는 값\n",
        "- x : C의 평가 결과가 True 일 때 사용할 값\n",
        "- y : C의 평가 결과가 True 가 아닐 때 사용할 값\n",
        "\n",
        "조건식 또는 값이 True 이면 x 값이 사용되고, True가 아니면 y 값이 사용되도록 하는 코드"
      ],
      "metadata": {
        "id": "ltLjiBAQNkxV"
      }
    },
    {
      "cell_type": "code",
      "source": [
        "# a b c 중 가장 작은값을 출력하는 3항 연산자\n",
        "a,b,c = input().split()\n",
        "\n",
        "a=int(a)\n",
        "b=int(b)\n",
        "c=int(c)\n",
        "\n",
        "print((a if a<b else b) if ((a if a<b else b)<c) else c)"
      ],
      "metadata": {
        "colab": {
          "base_uri": "https://localhost:8080/"
        },
        "id": "oZISexcSPSVm",
        "outputId": "b24ed344-6bb3-4e15-8a13-7f88514eb0ee"
      },
      "execution_count": 50,
      "outputs": [
        {
          "output_type": "stream",
          "name": "stdout",
          "text": [
            "2 -3 5\n",
            "-3\n"
          ]
        }
      ]
    },
    {
      "cell_type": "code",
      "source": [
        "# 음수짝수A, 음수홀수B, 양수짝수C, 양수홀수D\n",
        "n = int(input())\n",
        "\n",
        "if (a<0) and (a%2==0) :\n",
        "    print('A')\n",
        "elif (a<0) and (a%2!=0) :\n",
        "    print('B')\n",
        "elif (a>=0) and (a%2==0) :\n",
        "    print('C')\n",
        "elif (a>=0) and (a%2!=0) :\n",
        "    print('D')"
      ],
      "metadata": {
        "colab": {
          "base_uri": "https://localhost:8080/"
        },
        "id": "5Wc05owrPTFE",
        "outputId": "bdfb5d9c-da4a-4999-93db-ff2747d1507f"
      },
      "execution_count": 51,
      "outputs": [
        {
          "output_type": "stream",
          "name": "stdout",
          "text": [
            "-568\n",
            "C\n"
          ]
        }
      ]
    },
    {
      "cell_type": "code",
      "source": [
        "n = int(input())\n",
        "\n",
        "if n>=90 :\n",
        "    print('A')\n",
        "elif n>=70 :\n",
        "    print('B')\n",
        "elif n>=40 :\n",
        "    print('C')\n",
        "elif n>=0 :\n",
        "    print('D')"
      ],
      "metadata": {
        "colab": {
          "base_uri": "https://localhost:8080/"
        },
        "id": "bnV6FMdsSjC3",
        "outputId": "6480306d-cd93-48ef-fb7d-ac8fb3ad3724"
      },
      "execution_count": 52,
      "outputs": [
        {
          "output_type": "stream",
          "name": "stdout",
          "text": [
            "85\n",
            "B\n"
          ]
        }
      ]
    },
    {
      "cell_type": "code",
      "source": [
        "# 1~12월 입력하면 해당 계정 출력\n",
        "# 12, 1, 2 : winter,   3, 4, 5 : spring   6, 7, 8 : summer   9, 10, 11 : fall\n",
        "\n",
        "n = int(input())\n",
        "\n",
        "if n//3 == 1:\n",
        "    print('spring')\n",
        "elif n//3 == 2:\n",
        "    print('summer')\n",
        "elif n//3 == 3\n",
        "    print('fall')\n",
        "else :\n",
        "    print('winter')"
      ],
      "metadata": {
        "id": "s79zw4sFSkVm"
      },
      "execution_count": null,
      "outputs": []
    },
    {
      "cell_type": "code",
      "source": [
        "# 입력된 정수를 줄을 바꿔 하나씩 출력하는데, 0이 입력되면 종료\n",
        "n = 1\n",
        "while n != 0 :\n",
        "    n= int(input())\n",
        "    if n !=0 :\n",
        "        print(n)"
      ],
      "metadata": {
        "colab": {
          "base_uri": "https://localhost:8080/"
        },
        "id": "Fhk4PeL_ewSO",
        "outputId": "1dac5100-ded1-416d-86ff-299bd8fbd104"
      },
      "execution_count": 53,
      "outputs": [
        {
          "name": "stdout",
          "output_type": "stream",
          "text": [
            "5\n",
            "5\n",
            "5\n",
            "5\n",
            "8\n",
            "8\n",
            "7\n",
            "7\n",
            "0\n"
          ]
        }
      ]
    },
    {
      "cell_type": "code",
      "source": [
        "n = int(input())\n",
        "\n",
        "while n != 0 :\n",
        "    print(n)\n",
        "    n-=1"
      ],
      "metadata": {
        "colab": {
          "base_uri": "https://localhost:8080/"
        },
        "id": "AdtxDHxNfajc",
        "outputId": "ae1f178c-69c1-4fda-85f6-904d59f8c08f"
      },
      "execution_count": 55,
      "outputs": [
        {
          "output_type": "stream",
          "name": "stdout",
          "text": [
            "8\n",
            "8\n",
            "7\n",
            "6\n",
            "5\n",
            "4\n",
            "3\n",
            "2\n",
            "1\n"
          ]
        }
      ]
    },
    {
      "cell_type": "code",
      "source": [
        ""
      ],
      "metadata": {
        "id": "IePBISEAfgr_"
      },
      "execution_count": null,
      "outputs": []
    }
  ]
}